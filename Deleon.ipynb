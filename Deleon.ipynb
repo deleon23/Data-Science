{
 "cells": [
  {
   "cell_type": "markdown",
   "id": "44b24df8-bb0a-4695-b93f-c764657a51cb",
   "metadata": {},
   "source": [
    "<center>\n",
    "    <table>\n",
    "        <tr>\n",
    "            <td><img src=\"https://s3-api.us-geo.objectstorage.softlayer.net/cf-courses-data/CognitiveClass/Logos/organization_logo/organization_logo.png\" width=\"300\" alt=\"cognitiveclass.ai logo\"  /></td>\n",
    "        </tr>\n",
    "        <tr>\n",
    "            <td><a href=\"https://dataplatform.cloud.ibm.com/gallery\">IBM Cloud Gallery</a> </td>\n",
    "        </tr>\n",
    "    </table> \n",
    "</center>\n",
    "\n",
    "\n",
    "\n",
    "| Name | Age | Course |\n",
    "| ------ | ------ | ------ |\n",
    "| Deleon | 32 | Data Science |\n",
    "| Julia | 26 | Python |\n",
    "| Elliot | 21 | R |\n",
    "| Marcos | 49 | Scala |"
   ]
  },
  {
   "cell_type": "markdown",
   "id": "2d0bbfd0-250d-4330-abbe-09b782665124",
   "metadata": {},
   "source": [
    "# My Tittle"
   ]
  },
  {
   "cell_type": "code",
   "execution_count": 1,
   "id": "bf82cc6d-c32e-4a03-989d-6e311e27f243",
   "metadata": {},
   "outputs": [
    {
     "data": {
      "text/plain": [
       "2"
      ]
     },
     "execution_count": 1,
     "metadata": {},
     "output_type": "execute_result"
    }
   ],
   "source": [
    "1+1"
   ]
  },
  {
   "cell_type": "code",
   "execution_count": 2,
   "id": "c7789a5c-5276-4e92-a6c2-94e940f3dcf0",
   "metadata": {},
   "outputs": [
    {
     "data": {
      "text/plain": [
       "3000"
      ]
     },
     "execution_count": 2,
     "metadata": {},
     "output_type": "execute_result"
    }
   ],
   "source": [
    "1500+1500"
   ]
  },
  {
   "cell_type": "code",
   "execution_count": null,
   "id": "50456387-1f45-4915-9b24-7323c0b4f580",
   "metadata": {},
   "outputs": [],
   "source": []
  }
 ],
 "metadata": {
  "kernelspec": {
   "display_name": "Python 3 (ipykernel)",
   "language": "python",
   "name": "python3"
  },
  "language_info": {
   "codemirror_mode": {
    "name": "ipython",
    "version": 3
   },
   "file_extension": ".py",
   "mimetype": "text/x-python",
   "name": "python",
   "nbconvert_exporter": "python",
   "pygments_lexer": "ipython3",
   "version": "3.9.13"
  }
 },
 "nbformat": 4,
 "nbformat_minor": 5
}
